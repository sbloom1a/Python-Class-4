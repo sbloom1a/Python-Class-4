{
    "cells": [
        {
            "cell_type": "code",
            "execution_count": null,
            "metadata": {},
            "outputs": [],
            "source": ""
        },
        {
            "cell_type": "code",
            "execution_count": 55,
            "metadata": {},
            "outputs": [
                {
                    "name": "stdout",
                    "output_type": "stream",
                    "text": "Requirement already satisfied: geopy in /opt/conda/envs/Python-3.7-main/lib/python3.7/site-packages (2.0.0)\nRequirement already satisfied: geographiclib<2,>=1.49 in /opt/conda/envs/Python-3.7-main/lib/python3.7/site-packages (from geopy) (1.50)\nLibraries imported.\n"
                }
            ],
            "source": "import json # library to handle JSON files\n\n!pip install geopy\nfrom geopy.geocoders import Nominatim # module to convert an address into latitude and longitude values\n\nimport requests # library to handle requests\nfrom pandas.io.json import json_normalize # tranform JSON file into a pandas dataframe\nimport pandas as pd\n\n# Matplotlib and associated plotting modules\nimport matplotlib.cm as cm\nimport matplotlib.colors as colors\n\n# import k-means from clustering stage\nfrom sklearn.cluster import KMeans\n\n\nprint('Libraries imported.')"
        },
        {
            "cell_type": "code",
            "execution_count": null,
            "metadata": {},
            "outputs": [],
            "source": ""
        },
        {
            "cell_type": "code",
            "execution_count": null,
            "metadata": {},
            "outputs": [],
            "source": ""
        },
        {
            "cell_type": "markdown",
            "metadata": {},
            "source": "Remove last row as it is not relevant to data"
        },
        {
            "cell_type": "code",
            "execution_count": 56,
            "metadata": {},
            "outputs": [
                {
                    "data": {
                        "text/html": "<div>\n<style scoped>\n    .dataframe tbody tr th:only-of-type {\n        vertical-align: middle;\n    }\n\n    .dataframe tbody tr th {\n        vertical-align: top;\n    }\n\n    .dataframe thead th {\n        text-align: right;\n    }\n</style>\n<table border=\"1\" class=\"dataframe\">\n  <thead>\n    <tr style=\"text-align: right;\">\n      <th></th>\n      <th>#</th>\n      <th>Zip Code</th>\n      <th>City</th>\n      <th>Population</th>\n      <th>AvgIncome</th>\n      <th>National Rank</th>\n      <th>Latitude</th>\n      <th>Longitude</th>\n    </tr>\n  </thead>\n  <tbody>\n    <tr>\n      <th>0</th>\n      <td>25.</td>\n      <td>10007</td>\n      <td>New York, New York</td>\n      <td>3522</td>\n      <td>$112,947.00</td>\n      <td>#132</td>\n      <td>40.713973</td>\n      <td>-74.008336</td>\n    </tr>\n    <tr>\n      <th>1</th>\n      <td>29.</td>\n      <td>10280</td>\n      <td>New York, New York</td>\n      <td>6614</td>\n      <td>$108,536.00</td>\n      <td>#157</td>\n      <td>40.708501</td>\n      <td>-74.016828</td>\n    </tr>\n    <tr>\n      <th>2</th>\n      <td>30.</td>\n      <td>10162</td>\n      <td>New York, New York</td>\n      <td>1726</td>\n      <td>$108,416.00</td>\n      <td>#158</td>\n      <td>40.769298</td>\n      <td>-73.949942</td>\n    </tr>\n    <tr>\n      <th>3</th>\n      <td>34.</td>\n      <td>10004</td>\n      <td>New York, New York</td>\n      <td>1225</td>\n      <td>$101,868.00</td>\n      <td>#238</td>\n      <td>40.691870</td>\n      <td>-74.014109</td>\n    </tr>\n    <tr>\n      <th>4</th>\n      <td>57.</td>\n      <td>10069</td>\n      <td>New York, New York</td>\n      <td>1403</td>\n      <td>$88,091.00</td>\n      <td>#507</td>\n      <td>40.775551</td>\n      <td>-73.989689</td>\n    </tr>\n    <tr>\n      <th>...</th>\n      <td>...</td>\n      <td>...</td>\n      <td>...</td>\n      <td>...</td>\n      <td>...</td>\n      <td>...</td>\n      <td>...</td>\n      <td>...</td>\n    </tr>\n    <tr>\n      <th>114</th>\n      <td>1567.</td>\n      <td>10457</td>\n      <td>Bronx, New York</td>\n      <td>69048</td>\n      <td>$19,233.00</td>\n      <td>#30,729</td>\n      <td>40.846687</td>\n      <td>-73.898374</td>\n    </tr>\n    <tr>\n      <th>115</th>\n      <td>1578.</td>\n      <td>10456</td>\n      <td>Bronx, New York</td>\n      <td>76656</td>\n      <td>$16,664.00</td>\n      <td>#31,194</td>\n      <td>40.830877</td>\n      <td>-73.907954</td>\n    </tr>\n    <tr>\n      <th>116</th>\n      <td>1568.</td>\n      <td>11206</td>\n      <td>Brooklyn, New York</td>\n      <td>69032</td>\n      <td>$18,661.00</td>\n      <td>#30,855</td>\n      <td>40.702037</td>\n      <td>-73.942444</td>\n    </tr>\n    <tr>\n      <th>117</th>\n      <td>1579.</td>\n      <td>10474</td>\n      <td>Bronx, New York</td>\n      <td>11354</td>\n      <td>$16,339.00</td>\n      <td>#31,233</td>\n      <td>40.810203</td>\n      <td>-73.884437</td>\n    </tr>\n    <tr>\n      <th>118</th>\n      <td>1582.</td>\n      <td>10035</td>\n      <td>New York, New York</td>\n      <td>32702</td>\n      <td>$14,896.00</td>\n      <td>#31,403</td>\n      <td>40.795487</td>\n      <td>-73.929501</td>\n    </tr>\n  </tbody>\n</table>\n<p>117 rows \u00d7 8 columns</p>\n</div>",
                        "text/plain": "         # Zip Code                City Population    AvgIncome National Rank  \\\n0      25.    10007  New York, New York       3522  $112,947.00          #132   \n1      29.    10280  New York, New York       6614  $108,536.00          #157   \n2      30.    10162  New York, New York       1726  $108,416.00          #158   \n3      34.    10004  New York, New York       1225  $101,868.00          #238   \n4      57.    10069  New York, New York       1403   $88,091.00          #507   \n..     ...      ...                 ...        ...          ...           ...   \n114  1567.    10457     Bronx, New York      69048   $19,233.00       #30,729   \n115  1578.    10456     Bronx, New York      76656   $16,664.00       #31,194   \n116  1568.    11206  Brooklyn, New York      69032   $18,661.00       #30,855   \n117  1579.    10474     Bronx, New York      11354   $16,339.00       #31,233   \n118  1582.    10035  New York, New York      32702   $14,896.00       #31,403   \n\n      Latitude    Longitude  \n0    40.713973   -74.008336  \n1    40.708501   -74.016828  \n2    40.769298   -73.949942  \n3    40.691870   -74.014109  \n4    40.775551   -73.989689  \n..         ...          ...  \n114  40.846687   -73.898374  \n115  40.830877   -73.907954  \n116  40.702037   -73.942444  \n117  40.810203   -73.884437  \n118  40.795487   -73.929501  \n\n[117 rows x 8 columns]"
                    },
                    "execution_count": 56,
                    "metadata": {},
                    "output_type": "execute_result"
                }
            ],
            "source": "population_df = pd.DataFrame()\n\n#There are 16 pages in the table\nfor x in range(17):\n    pop_url = 'http://zipatlas.com/us/ny/zip-code-comparison/median-household-income.' + str(x+1) + '.htm'\n    new_df = pd.read_html(pop_url)[10]\n    new_df = new_df.rename(columns=new_df.iloc[0]).drop(new_df.index[0])\n    population_df = pd.concat([population_df, new_df], axis=0)\n\n\npopulation_df[['Latitude','Longitude']] = population_df.Location.str.split(\",\",expand=True)\ndel population_df['Location']\npopulation_df\n\nboroughs = ['New York, New York', 'Brooklyn, New York', 'Queens, New York', 'Bronx, New York', 'Staten Island, New York']\n\npopulation_df = population_df.loc[population_df['City'].isin(boroughs)]\npopulation_df.reset_index(drop=True, inplace=True)\npopulation_df = population_df.rename(columns={'Avg. Income/H/hold': 'AvgIncome'})\n\n\n# Remove rows with population of 0\npopulation_df = population_df[population_df.Population != '0']\n# Remove rows with \tAvg. Income of 0\npopulation_df = population_df[population_df.AvgIncome != '$0.00']\npopulation_df"
        },
        {
            "cell_type": "code",
            "execution_count": 57,
            "metadata": {},
            "outputs": [
                {
                    "name": "stdout",
                    "output_type": "stream",
                    "text": "10007\n10280\n10162\n10004\n10069\n10282\n10006\n10022\n10005\n10024\n10028\n10021\n10023\n10128\n10017\n10312\n10014\n10016\n10309\n10307\n10010\n10011\n10308\n10003\n10314\n10012\n10464\n10471\n11201\n10019\n10306\n11215\n11234\n10044\n10025\n11217\n10305\n10018\n10310\n10465\n10301\n11231\n11228\n11209\n11210\n10303\n10302\n11236\n10469\n10304\n10036\n10001\n10475\n10463\n10009\n10461\n11238\n10470\n10013\n11229\n11203\n10466\n11218\n11214\n10462\n11222\n11230\n11223\n11204\n10033\n10038\n11235\n11225\n11220\n11226\n10034\n10467\n11232\n11205\n10040\n10473\n11208\n10037\n10039\n10468\n11219\n11213\n11224\n10032\n11216\n10031\n10029\n10030\n11207\n10002\n11211\n11212\n10472\n10027\n10026\n11237\n11239\n11233\n11221\n10458\n10460\n10459\n10453\n10452\n10454\n10451\n10455\n10457\n10456\n11206\n10474\n10035\n"
                },
                {
                    "data": {
                        "text/html": "<div>\n<style scoped>\n    .dataframe tbody tr th:only-of-type {\n        vertical-align: middle;\n    }\n\n    .dataframe tbody tr th {\n        vertical-align: top;\n    }\n\n    .dataframe thead th {\n        text-align: right;\n    }\n</style>\n<table border=\"1\" class=\"dataframe\">\n  <thead>\n    <tr style=\"text-align: right;\">\n      <th></th>\n      <th>Zip</th>\n      <th>Zip Latitude</th>\n      <th>Zip Longitude</th>\n      <th>Venue</th>\n      <th>Venue Latitude</th>\n      <th>Venue Longitude</th>\n      <th>Venue Category</th>\n    </tr>\n  </thead>\n  <tbody>\n    <tr>\n      <th>2</th>\n      <td>10007</td>\n      <td>40.713973</td>\n      <td>-74.008336</td>\n      <td>Nish N\u016bsh</td>\n      <td>40.715537</td>\n      <td>-74.007725</td>\n      <td>Falafel Restaurant</td>\n    </tr>\n    <tr>\n      <th>3</th>\n      <td>10007</td>\n      <td>40.713973</td>\n      <td>-74.008336</td>\n      <td>Little Park</td>\n      <td>40.715487</td>\n      <td>-74.009133</td>\n      <td>American Restaurant</td>\n    </tr>\n    <tr>\n      <th>5</th>\n      <td>10007</td>\n      <td>40.713973</td>\n      <td>-74.008336</td>\n      <td>Racines</td>\n      <td>40.714754</td>\n      <td>-74.007581</td>\n      <td>French Restaurant</td>\n    </tr>\n    <tr>\n      <th>6</th>\n      <td>10007</td>\n      <td>40.713973</td>\n      <td>-74.008336</td>\n      <td>The Hummus &amp; Pita Co</td>\n      <td>40.714453</td>\n      <td>-74.006853</td>\n      <td>Falafel Restaurant</td>\n    </tr>\n    <tr>\n      <th>8</th>\n      <td>10007</td>\n      <td>40.713973</td>\n      <td>-74.008336</td>\n      <td>Sophie's Cuban Cuisine</td>\n      <td>40.714803</td>\n      <td>-74.007656</td>\n      <td>Cuban Restaurant</td>\n    </tr>\n    <tr>\n      <th>...</th>\n      <td>...</td>\n      <td>...</td>\n      <td>...</td>\n      <td>...</td>\n      <td>...</td>\n      <td>...</td>\n      <td>...</td>\n    </tr>\n    <tr>\n      <th>4662</th>\n      <td>10035</td>\n      <td>40.795487</td>\n      <td>-73.929501</td>\n      <td>Bistro Casa Azul</td>\n      <td>40.796607</td>\n      <td>-73.932342</td>\n      <td>Mexican Restaurant</td>\n    </tr>\n    <tr>\n      <th>4670</th>\n      <td>10035</td>\n      <td>40.795487</td>\n      <td>-73.929501</td>\n      <td>Wing Wah Chinese Restaurant</td>\n      <td>40.797486</td>\n      <td>-73.933994</td>\n      <td>Chinese Restaurant</td>\n    </tr>\n    <tr>\n      <th>4674</th>\n      <td>10035</td>\n      <td>40.795487</td>\n      <td>-73.929501</td>\n      <td>La Cabana</td>\n      <td>40.796770</td>\n      <td>-73.934769</td>\n      <td>Mexican Restaurant</td>\n    </tr>\n    <tr>\n      <th>4675</th>\n      <td>10035</td>\n      <td>40.795487</td>\n      <td>-73.929501</td>\n      <td>Teng Dragon</td>\n      <td>40.796110</td>\n      <td>-73.935021</td>\n      <td>Chinese Restaurant</td>\n    </tr>\n    <tr>\n      <th>4676</th>\n      <td>10035</td>\n      <td>40.795487</td>\n      <td>-73.929501</td>\n      <td>Guajillo Restaurant</td>\n      <td>40.796939</td>\n      <td>-73.935039</td>\n      <td>Mexican Restaurant</td>\n    </tr>\n  </tbody>\n</table>\n<p>2369 rows \u00d7 7 columns</p>\n</div>",
                        "text/plain": "        Zip Zip Latitude Zip Longitude                        Venue  \\\n2     10007    40.713973    -74.008336                    Nish N\u016bsh   \n3     10007    40.713973    -74.008336                  Little Park   \n5     10007    40.713973    -74.008336                      Racines   \n6     10007    40.713973    -74.008336         The Hummus & Pita Co   \n8     10007    40.713973    -74.008336       Sophie's Cuban Cuisine   \n...     ...          ...           ...                          ...   \n4662  10035    40.795487    -73.929501             Bistro Casa Azul   \n4670  10035    40.795487    -73.929501  Wing Wah Chinese Restaurant   \n4674  10035    40.795487    -73.929501                    La Cabana   \n4675  10035    40.795487    -73.929501                  Teng Dragon   \n4676  10035    40.795487    -73.929501          Guajillo Restaurant   \n\n      Venue Latitude  Venue Longitude       Venue Category  \n2          40.715537       -74.007725   Falafel Restaurant  \n3          40.715487       -74.009133  American Restaurant  \n5          40.714754       -74.007581    French Restaurant  \n6          40.714453       -74.006853   Falafel Restaurant  \n8          40.714803       -74.007656     Cuban Restaurant  \n...              ...              ...                  ...  \n4662       40.796607       -73.932342   Mexican Restaurant  \n4670       40.797486       -73.933994   Chinese Restaurant  \n4674       40.796770       -73.934769   Mexican Restaurant  \n4675       40.796110       -73.935021   Chinese Restaurant  \n4676       40.796939       -73.935039   Mexican Restaurant  \n\n[2369 rows x 7 columns]"
                    },
                    "execution_count": 57,
                    "metadata": {},
                    "output_type": "execute_result"
                }
            ],
            "source": "def getNearbyFoodVenues(names, latitudes, longitudes, radius=500, section = 'food'):\n    \n    venues_list=[]\n    for name, lat, lng in zip(names, latitudes, longitudes):\n        print(name)\n            \n        # create the API request URL\n        url = 'https://api.foursquare.com/v2/venues/explore?&client_id={}&client_secret={}&v={}&ll={},{}&radius={}&section={}&limit={}'.format(\n            CLIENT_ID, \n            CLIENT_SECRET, \n            VERSION, \n            lat, \n            lng, \n            radius, \n            section, \n            LIMIT)\n            \n        # make the GET request\n        results = requests.get(url).json()[\"response\"]['groups'][0]['items']\n        \n        # return only relevant information for each nearby venue\n        venues_list.append([(\n            name, \n            lat, \n            lng, \n            v['venue']['name'], \n            v['venue']['location']['lat'], \n            v['venue']['location']['lng'],  \n            v['venue']['categories'][0]['name']) for v in results])\n\n    nearby_venues = pd.DataFrame([item for venue_list in venues_list for item in venue_list])\n    nearby_venues.columns = ['Zip', \n                  'Zip Latitude', \n                  'Zip Longitude', \n                  'Venue', \n                  'Venue Latitude', \n                  'Venue Longitude', \n                  'Venue Category']\n    \n    return(nearby_venues)\n\n\nCLIENT_ID = '5R0IEDEC5CE051431E0UXETF4STAPCSPMIAXV121CUIUBF0Z' # your Foursquare ID\nCLIENT_SECRET = 'WVV4D4WTSEBNZFWBDBA3KESNPUGOFEKJB0IPPII1RSF4WYXW' # your Foursquare Secret\nVERSION = '20180605' # Foursquare API version\nLIMIT = 100\n\nny_food = getNearbyFoodVenues(names=population_df['Zip Code'],\n                                   latitudes=population_df['Latitude'],\n                                   longitudes=population_df['Longitude']\n                                  )\n\n# Only focus on restarants\nny_food = ny_food[ny_food['Venue Category'].str.contains('Restaurant')]\n\n# Remove Fast Food Places\nny_food = ny_food[ny_food['Venue Category'] != 'Fast Food Restaurant']\nny_food"
        },
        {
            "cell_type": "markdown",
            "metadata": {},
            "source": "Postcode 10301 returned no results from Foursquare so we will remove it from our main dataset population_df"
        },
        {
            "cell_type": "code",
            "execution_count": null,
            "metadata": {},
            "outputs": [],
            "source": "ny_food = ny_food.dropna(how='any',axis=0)\n\nprint(ny_food.loc[ny_food['Zip'] == '10301'])\nindexNames = population_df[population_df['Zip Code'] == '10301'].index\npopulation_df.drop(indexNames , inplace=True)\npopulation_df"
        },
        {
            "cell_type": "code",
            "execution_count": 61,
            "metadata": {},
            "outputs": [
                {
                    "data": {
                        "text/html": "<div>\n<style scoped>\n    .dataframe tbody tr th:only-of-type {\n        vertical-align: middle;\n    }\n\n    .dataframe tbody tr th {\n        vertical-align: top;\n    }\n\n    .dataframe thead th {\n        text-align: right;\n    }\n</style>\n<table border=\"1\" class=\"dataframe\">\n  <thead>\n    <tr style=\"text-align: right;\">\n      <th></th>\n      <th>#</th>\n      <th>Zip Code</th>\n      <th>City</th>\n      <th>Population</th>\n      <th>Avg. Income/H/hold</th>\n      <th>National Rank</th>\n      <th>Latitude</th>\n      <th>Longitude</th>\n    </tr>\n  </thead>\n  <tbody>\n  </tbody>\n</table>\n</div>",
                        "text/plain": "Empty DataFrame\nColumns: [#, Zip Code, City, Population, Avg. Income/H/hold, National Rank, Latitude, Longitude]\nIndex: []"
                    },
                    "execution_count": 61,
                    "metadata": {},
                    "output_type": "execute_result"
                }
            ],
            "source": ""
        },
        {
            "cell_type": "code",
            "execution_count": 67,
            "metadata": {},
            "outputs": [
                {
                    "data": {
                        "text/html": "<div>\n<style scoped>\n    .dataframe tbody tr th:only-of-type {\n        vertical-align: middle;\n    }\n\n    .dataframe tbody tr th {\n        vertical-align: top;\n    }\n\n    .dataframe thead th {\n        text-align: right;\n    }\n</style>\n<table border=\"1\" class=\"dataframe\">\n  <thead>\n    <tr style=\"text-align: right;\">\n      <th></th>\n      <th>Zip Code</th>\n      <th>Population</th>\n      <th>AvgIncome</th>\n      <th>Venue</th>\n    </tr>\n  </thead>\n  <tbody>\n    <tr>\n      <th>0</th>\n      <td>10007</td>\n      <td>3522.0</td>\n      <td>112947.0</td>\n      <td>31.0</td>\n    </tr>\n    <tr>\n      <th>1</th>\n      <td>10280</td>\n      <td>6614.0</td>\n      <td>108536.0</td>\n      <td>28.0</td>\n    </tr>\n    <tr>\n      <th>2</th>\n      <td>10162</td>\n      <td>1726.0</td>\n      <td>108416.0</td>\n      <td>27.0</td>\n    </tr>\n    <tr>\n      <th>3</th>\n      <td>10004</td>\n      <td>1225.0</td>\n      <td>101868.0</td>\n      <td>4.0</td>\n    </tr>\n    <tr>\n      <th>4</th>\n      <td>10069</td>\n      <td>1403.0</td>\n      <td>88091.0</td>\n      <td>3.0</td>\n    </tr>\n    <tr>\n      <th>...</th>\n      <td>...</td>\n      <td>...</td>\n      <td>...</td>\n      <td>...</td>\n    </tr>\n    <tr>\n      <th>111</th>\n      <td>10457</td>\n      <td>69048.0</td>\n      <td>19233.0</td>\n      <td>5.0</td>\n    </tr>\n    <tr>\n      <th>112</th>\n      <td>10456</td>\n      <td>76656.0</td>\n      <td>16664.0</td>\n      <td>5.0</td>\n    </tr>\n    <tr>\n      <th>113</th>\n      <td>11206</td>\n      <td>69032.0</td>\n      <td>18661.0</td>\n      <td>15.0</td>\n    </tr>\n    <tr>\n      <th>114</th>\n      <td>10474</td>\n      <td>11354.0</td>\n      <td>16339.0</td>\n      <td>3.0</td>\n    </tr>\n    <tr>\n      <th>115</th>\n      <td>10035</td>\n      <td>32702.0</td>\n      <td>14896.0</td>\n      <td>9.0</td>\n    </tr>\n  </tbody>\n</table>\n<p>116 rows \u00d7 4 columns</p>\n</div>",
                        "text/plain": "    Zip Code  Population  AvgIncome  Venue\n0      10007      3522.0   112947.0   31.0\n1      10280      6614.0   108536.0   28.0\n2      10162      1726.0   108416.0   27.0\n3      10004      1225.0   101868.0    4.0\n4      10069      1403.0    88091.0    3.0\n..       ...         ...        ...    ...\n111    10457     69048.0    19233.0    5.0\n112    10456     76656.0    16664.0    5.0\n113    11206     69032.0    18661.0   15.0\n114    10474     11354.0    16339.0    3.0\n115    10035     32702.0    14896.0    9.0\n\n[116 rows x 4 columns]"
                    },
                    "execution_count": 67,
                    "metadata": {},
                    "output_type": "execute_result"
                }
            ],
            "source": "zip_food_count = ny_food.groupby('Zip').count()\nzip_food_count.reset_index(inplace=True)\n\n\nmerged_df = pd.merge(left=population_df, right=zip_food_count[['Zip','Venue']], how='left', left_on='Zip Code', right_on='Zip')\nmerged_df.reset_index(drop=True, inplace=True)  \nmerged_df_clean = merged_df.drop(['#', 'City', 'National Rank', 'Latitude','Longitude', 'Zip'], axis=1)\n\n\nmerged_df_clean['AvgIncome'] = merged_df_clean['AvgIncome'].str.replace('$', '')\nmerged_df_clean['AvgIncome'] = merged_df_clean['AvgIncome'].str.replace(',', '')\nmerged_df_clean['AvgIncome'] = merged_df_clean['AvgIncome'].astype(float) \nmerged_df_clean['Population'] = merged_df_clean['Population'].astype(float) \n\nmerged_df_clean"
        },
        {
            "cell_type": "code",
            "execution_count": 68,
            "metadata": {},
            "outputs": [
                {
                    "data": {
                        "text/plain": "[False,\n False,\n False,\n False,\n False,\n False,\n False,\n False,\n False,\n False,\n False,\n False,\n False,\n False,\n False,\n False,\n False,\n False,\n True,\n False,\n False,\n False,\n False,\n False,\n False,\n False,\n True,\n True,\n False,\n False,\n False,\n False,\n False,\n False,\n False,\n False,\n False,\n False,\n False,\n False,\n False,\n False,\n False,\n False,\n True,\n False,\n False,\n False,\n False,\n False,\n False,\n False,\n False,\n False,\n False,\n False,\n False,\n False,\n False,\n False,\n False,\n False,\n False,\n False,\n False,\n False,\n False,\n False,\n False,\n False,\n False,\n False,\n False,\n False,\n False,\n False,\n False,\n False,\n False,\n False,\n False,\n False,\n False,\n False,\n False,\n False,\n False,\n False,\n False,\n False,\n False,\n False,\n False,\n False,\n False,\n False,\n False,\n False,\n False,\n False,\n False,\n False,\n False,\n False,\n False,\n False,\n False,\n False,\n False,\n False,\n False,\n False,\n False,\n False,\n False,\n False]"
                    },
                    "execution_count": 68,
                    "metadata": {},
                    "output_type": "execute_result"
                }
            ],
            "source": "list(merged_df_clustering.isnull()['Venue'])"
        },
        {
            "cell_type": "code",
            "execution_count": 60,
            "metadata": {},
            "outputs": [
                {
                    "ename": "ValueError",
                    "evalue": "Input contains NaN, infinity or a value too large for dtype('float64').",
                    "output_type": "error",
                    "traceback": [
                        "\u001b[0;31m---------------------------------------------------------------------------\u001b[0m",
                        "\u001b[0;31mValueError\u001b[0m                                Traceback (most recent call last)",
                        "\u001b[0;32m<ipython-input-60-a6de81c5765e>\u001b[0m in \u001b[0;36m<module>\u001b[0;34m\u001b[0m\n\u001b[1;32m      8\u001b[0m \u001b[0mmerged_df_clustering\u001b[0m\u001b[0;34m\u001b[0m\u001b[0;34m\u001b[0m\u001b[0m\n\u001b[1;32m      9\u001b[0m \u001b[0;31m# run k-means clustering\u001b[0m\u001b[0;34m\u001b[0m\u001b[0;34m\u001b[0m\u001b[0;34m\u001b[0m\u001b[0m\n\u001b[0;32m---> 10\u001b[0;31m \u001b[0mkmeans\u001b[0m \u001b[0;34m=\u001b[0m \u001b[0mKMeans\u001b[0m\u001b[0;34m(\u001b[0m\u001b[0mn_clusters\u001b[0m\u001b[0;34m=\u001b[0m\u001b[0mkclusters\u001b[0m\u001b[0;34m,\u001b[0m \u001b[0mrandom_state\u001b[0m\u001b[0;34m=\u001b[0m\u001b[0;36m0\u001b[0m\u001b[0;34m)\u001b[0m\u001b[0;34m.\u001b[0m\u001b[0mfit\u001b[0m\u001b[0;34m(\u001b[0m\u001b[0mmerged_df_clustering\u001b[0m\u001b[0;34m)\u001b[0m\u001b[0;34m\u001b[0m\u001b[0;34m\u001b[0m\u001b[0m\n\u001b[0m\u001b[1;32m     11\u001b[0m \u001b[0;34m\u001b[0m\u001b[0m\n\u001b[1;32m     12\u001b[0m \u001b[0;31m# check cluster labels generated for each row in the dataframe\u001b[0m\u001b[0;34m\u001b[0m\u001b[0;34m\u001b[0m\u001b[0;34m\u001b[0m\u001b[0m\n",
                        "\u001b[0;32m/opt/conda/envs/Python-3.7-main/lib/python3.7/site-packages/sklearn/cluster/_kmeans.py\u001b[0m in \u001b[0;36mfit\u001b[0;34m(self, X, y, sample_weight)\u001b[0m\n\u001b[1;32m    992\u001b[0m                                 \u001b[0mdtype\u001b[0m\u001b[0;34m=\u001b[0m\u001b[0;34m[\u001b[0m\u001b[0mnp\u001b[0m\u001b[0;34m.\u001b[0m\u001b[0mfloat64\u001b[0m\u001b[0;34m,\u001b[0m \u001b[0mnp\u001b[0m\u001b[0;34m.\u001b[0m\u001b[0mfloat32\u001b[0m\u001b[0;34m]\u001b[0m\u001b[0;34m,\u001b[0m\u001b[0;34m\u001b[0m\u001b[0;34m\u001b[0m\u001b[0m\n\u001b[1;32m    993\u001b[0m                                 \u001b[0morder\u001b[0m\u001b[0;34m=\u001b[0m\u001b[0;34m'C'\u001b[0m\u001b[0;34m,\u001b[0m \u001b[0mcopy\u001b[0m\u001b[0;34m=\u001b[0m\u001b[0mself\u001b[0m\u001b[0;34m.\u001b[0m\u001b[0mcopy_x\u001b[0m\u001b[0;34m,\u001b[0m\u001b[0;34m\u001b[0m\u001b[0;34m\u001b[0m\u001b[0m\n\u001b[0;32m--> 994\u001b[0;31m                                 accept_large_sparse=False)\n\u001b[0m\u001b[1;32m    995\u001b[0m         \u001b[0;31m# verify that the number of samples given is larger than k\u001b[0m\u001b[0;34m\u001b[0m\u001b[0;34m\u001b[0m\u001b[0;34m\u001b[0m\u001b[0m\n\u001b[1;32m    996\u001b[0m         \u001b[0;32mif\u001b[0m \u001b[0m_num_samples\u001b[0m\u001b[0;34m(\u001b[0m\u001b[0mX\u001b[0m\u001b[0;34m)\u001b[0m \u001b[0;34m<\u001b[0m \u001b[0mself\u001b[0m\u001b[0;34m.\u001b[0m\u001b[0mn_clusters\u001b[0m\u001b[0;34m:\u001b[0m\u001b[0;34m\u001b[0m\u001b[0;34m\u001b[0m\u001b[0m\n",
                        "\u001b[0;32m/opt/conda/envs/Python-3.7-main/lib/python3.7/site-packages/sklearn/base.py\u001b[0m in \u001b[0;36m_validate_data\u001b[0;34m(self, X, y, reset, validate_separately, **check_params)\u001b[0m\n\u001b[1;32m    418\u001b[0m                     \u001b[0;34mf\"requires y to be passed, but the target y is None.\"\u001b[0m\u001b[0;34m\u001b[0m\u001b[0;34m\u001b[0m\u001b[0m\n\u001b[1;32m    419\u001b[0m                 )\n\u001b[0;32m--> 420\u001b[0;31m             \u001b[0mX\u001b[0m \u001b[0;34m=\u001b[0m \u001b[0mcheck_array\u001b[0m\u001b[0;34m(\u001b[0m\u001b[0mX\u001b[0m\u001b[0;34m,\u001b[0m \u001b[0;34m**\u001b[0m\u001b[0mcheck_params\u001b[0m\u001b[0;34m)\u001b[0m\u001b[0;34m\u001b[0m\u001b[0;34m\u001b[0m\u001b[0m\n\u001b[0m\u001b[1;32m    421\u001b[0m             \u001b[0mout\u001b[0m \u001b[0;34m=\u001b[0m \u001b[0mX\u001b[0m\u001b[0;34m\u001b[0m\u001b[0;34m\u001b[0m\u001b[0m\n\u001b[1;32m    422\u001b[0m         \u001b[0;32melse\u001b[0m\u001b[0;34m:\u001b[0m\u001b[0;34m\u001b[0m\u001b[0;34m\u001b[0m\u001b[0m\n",
                        "\u001b[0;32m/opt/conda/envs/Python-3.7-main/lib/python3.7/site-packages/sklearn/utils/validation.py\u001b[0m in \u001b[0;36minner_f\u001b[0;34m(*args, **kwargs)\u001b[0m\n\u001b[1;32m     71\u001b[0m                           FutureWarning)\n\u001b[1;32m     72\u001b[0m         \u001b[0mkwargs\u001b[0m\u001b[0;34m.\u001b[0m\u001b[0mupdate\u001b[0m\u001b[0;34m(\u001b[0m\u001b[0;34m{\u001b[0m\u001b[0mk\u001b[0m\u001b[0;34m:\u001b[0m \u001b[0marg\u001b[0m \u001b[0;32mfor\u001b[0m \u001b[0mk\u001b[0m\u001b[0;34m,\u001b[0m \u001b[0marg\u001b[0m \u001b[0;32min\u001b[0m \u001b[0mzip\u001b[0m\u001b[0;34m(\u001b[0m\u001b[0msig\u001b[0m\u001b[0;34m.\u001b[0m\u001b[0mparameters\u001b[0m\u001b[0;34m,\u001b[0m \u001b[0margs\u001b[0m\u001b[0;34m)\u001b[0m\u001b[0;34m}\u001b[0m\u001b[0;34m)\u001b[0m\u001b[0;34m\u001b[0m\u001b[0;34m\u001b[0m\u001b[0m\n\u001b[0;32m---> 73\u001b[0;31m         \u001b[0;32mreturn\u001b[0m \u001b[0mf\u001b[0m\u001b[0;34m(\u001b[0m\u001b[0;34m**\u001b[0m\u001b[0mkwargs\u001b[0m\u001b[0;34m)\u001b[0m\u001b[0;34m\u001b[0m\u001b[0;34m\u001b[0m\u001b[0m\n\u001b[0m\u001b[1;32m     74\u001b[0m     \u001b[0;32mreturn\u001b[0m \u001b[0minner_f\u001b[0m\u001b[0;34m\u001b[0m\u001b[0;34m\u001b[0m\u001b[0m\n\u001b[1;32m     75\u001b[0m \u001b[0;34m\u001b[0m\u001b[0m\n",
                        "\u001b[0;32m/opt/conda/envs/Python-3.7-main/lib/python3.7/site-packages/sklearn/utils/validation.py\u001b[0m in \u001b[0;36mcheck_array\u001b[0;34m(array, accept_sparse, accept_large_sparse, dtype, order, copy, force_all_finite, ensure_2d, allow_nd, ensure_min_samples, ensure_min_features, estimator)\u001b[0m\n\u001b[1;32m    644\u001b[0m         \u001b[0;32mif\u001b[0m \u001b[0mforce_all_finite\u001b[0m\u001b[0;34m:\u001b[0m\u001b[0;34m\u001b[0m\u001b[0;34m\u001b[0m\u001b[0m\n\u001b[1;32m    645\u001b[0m             _assert_all_finite(array,\n\u001b[0;32m--> 646\u001b[0;31m                                allow_nan=force_all_finite == 'allow-nan')\n\u001b[0m\u001b[1;32m    647\u001b[0m \u001b[0;34m\u001b[0m\u001b[0m\n\u001b[1;32m    648\u001b[0m     \u001b[0;32mif\u001b[0m \u001b[0mensure_min_samples\u001b[0m \u001b[0;34m>\u001b[0m \u001b[0;36m0\u001b[0m\u001b[0;34m:\u001b[0m\u001b[0;34m\u001b[0m\u001b[0;34m\u001b[0m\u001b[0m\n",
                        "\u001b[0;32m/opt/conda/envs/Python-3.7-main/lib/python3.7/site-packages/sklearn/utils/validation.py\u001b[0m in \u001b[0;36m_assert_all_finite\u001b[0;34m(X, allow_nan, msg_dtype)\u001b[0m\n\u001b[1;32m     98\u001b[0m                     \u001b[0mmsg_err\u001b[0m\u001b[0;34m.\u001b[0m\u001b[0mformat\u001b[0m\u001b[0;34m\u001b[0m\u001b[0;34m\u001b[0m\u001b[0m\n\u001b[1;32m     99\u001b[0m                     (type_err,\n\u001b[0;32m--> 100\u001b[0;31m                      msg_dtype if msg_dtype is not None else X.dtype)\n\u001b[0m\u001b[1;32m    101\u001b[0m             )\n\u001b[1;32m    102\u001b[0m     \u001b[0;31m# for object dtype data, we only check for NaNs (GH-13254)\u001b[0m\u001b[0;34m\u001b[0m\u001b[0;34m\u001b[0m\u001b[0;34m\u001b[0m\u001b[0m\n",
                        "\u001b[0;31mValueError\u001b[0m: Input contains NaN, infinity or a value too large for dtype('float64')."
                    ]
                }
            ],
            "source": "# import k-means from clustering stage\nfrom sklearn.cluster import KMeans\n\n# set number of clusters\nkclusters = 10\n\nmerged_df_clustering = merged_df_clean.drop('Zip Code', 1)\nmerged_df_clustering\n# run k-means clustering\nkmeans = KMeans(n_clusters=kclusters, random_state=0).fit(merged_df_clustering)\n\n# check cluster labels generated for each row in the dataframe\nkmeans.labels_[0:10]\n\n\nmerged_df_clean.insert(0, 'Cluster Labels', kmeans.labels_)\n\n\n\n#toronto_df.rename(columns={\"Neighbourhood\": \"Neighborhood\"}, inplace=True)\n#tor_merged = toronto_df\n\n# merge manhattan_grouped with manhattan_data to add latitude/longitude for each neighborhood\n#tor_merged = tor_merged.join(neighborhoods_venues_sorted.set_index('Neighborhood'), on='Neighborhood')\n\n#tor_merged.head() # check the last columns!"
        },
        {
            "cell_type": "code",
            "execution_count": 24,
            "metadata": {},
            "outputs": [
                {
                    "data": {
                        "text/html": "<div>\n<style scoped>\n    .dataframe tbody tr th:only-of-type {\n        vertical-align: middle;\n    }\n\n    .dataframe tbody tr th {\n        vertical-align: top;\n    }\n\n    .dataframe thead th {\n        text-align: right;\n    }\n</style>\n<table border=\"1\" class=\"dataframe\">\n  <thead>\n    <tr style=\"text-align: right;\">\n      <th></th>\n      <th>Cluster Labels</th>\n      <th>Zip Code</th>\n      <th>Population</th>\n      <th>AvgIncome</th>\n      <th>Venue</th>\n    </tr>\n  </thead>\n  <tbody>\n    <tr>\n      <th>42</th>\n      <td>0</td>\n      <td>11209</td>\n      <td>69840.0</td>\n      <td>44518.0</td>\n      <td>100</td>\n    </tr>\n    <tr>\n      <th>43</th>\n      <td>0</td>\n      <td>11210</td>\n      <td>62308.0</td>\n      <td>42967.0</td>\n      <td>30</td>\n    </tr>\n    <tr>\n      <th>47</th>\n      <td>0</td>\n      <td>10469</td>\n      <td>63345.0</td>\n      <td>42102.0</td>\n      <td>13</td>\n    </tr>\n    <tr>\n      <th>52</th>\n      <td>0</td>\n      <td>10463</td>\n      <td>65576.0</td>\n      <td>40497.0</td>\n      <td>27</td>\n    </tr>\n    <tr>\n      <th>53</th>\n      <td>0</td>\n      <td>10009</td>\n      <td>58595.0</td>\n      <td>40176.0</td>\n      <td>84</td>\n    </tr>\n    <tr>\n      <th>60</th>\n      <td>0</td>\n      <td>10466</td>\n      <td>68787.0</td>\n      <td>37141.0</td>\n      <td>9</td>\n    </tr>\n    <tr>\n      <th>63</th>\n      <td>0</td>\n      <td>10462</td>\n      <td>72077.0</td>\n      <td>33735.0</td>\n      <td>11</td>\n    </tr>\n    <tr>\n      <th>68</th>\n      <td>0</td>\n      <td>10033</td>\n      <td>58259.0</td>\n      <td>31348.0</td>\n      <td>90</td>\n    </tr>\n    <tr>\n      <th>71</th>\n      <td>0</td>\n      <td>11225</td>\n      <td>63774.0</td>\n      <td>30192.0</td>\n      <td>45</td>\n    </tr>\n    <tr>\n      <th>79</th>\n      <td>0</td>\n      <td>10473</td>\n      <td>56166.0</td>\n      <td>27733.0</td>\n      <td>4</td>\n    </tr>\n    <tr>\n      <th>85</th>\n      <td>0</td>\n      <td>11213</td>\n      <td>65440.0</td>\n      <td>26366.0</td>\n      <td>35</td>\n    </tr>\n    <tr>\n      <th>87</th>\n      <td>0</td>\n      <td>10032</td>\n      <td>63842.0</td>\n      <td>26237.0</td>\n      <td>41</td>\n    </tr>\n    <tr>\n      <th>88</th>\n      <td>0</td>\n      <td>11216</td>\n      <td>55775.0</td>\n      <td>25135.0</td>\n      <td>59</td>\n    </tr>\n    <tr>\n      <th>89</th>\n      <td>0</td>\n      <td>10031</td>\n      <td>60221.0</td>\n      <td>24285.0</td>\n      <td>63</td>\n    </tr>\n    <tr>\n      <th>96</th>\n      <td>0</td>\n      <td>10472</td>\n      <td>64867.0</td>\n      <td>23565.0</td>\n      <td>16</td>\n    </tr>\n    <tr>\n      <th>97</th>\n      <td>0</td>\n      <td>10027</td>\n      <td>56168.0</td>\n      <td>23150.0</td>\n      <td>42</td>\n    </tr>\n    <tr>\n      <th>101</th>\n      <td>0</td>\n      <td>11233</td>\n      <td>61955.0</td>\n      <td>22754.0</td>\n      <td>14</td>\n    </tr>\n    <tr>\n      <th>111</th>\n      <td>0</td>\n      <td>10457</td>\n      <td>69048.0</td>\n      <td>19233.0</td>\n      <td>18</td>\n    </tr>\n    <tr>\n      <th>113</th>\n      <td>0</td>\n      <td>11206</td>\n      <td>69032.0</td>\n      <td>18661.0</td>\n      <td>36</td>\n    </tr>\n  </tbody>\n</table>\n</div>",
                        "text/plain": "     Cluster Labels Zip Code  Population  AvgIncome  Venue\n42                0    11209     69840.0    44518.0    100\n43                0    11210     62308.0    42967.0     30\n47                0    10469     63345.0    42102.0     13\n52                0    10463     65576.0    40497.0     27\n53                0    10009     58595.0    40176.0     84\n60                0    10466     68787.0    37141.0      9\n63                0    10462     72077.0    33735.0     11\n68                0    10033     58259.0    31348.0     90\n71                0    11225     63774.0    30192.0     45\n79                0    10473     56166.0    27733.0      4\n85                0    11213     65440.0    26366.0     35\n87                0    10032     63842.0    26237.0     41\n88                0    11216     55775.0    25135.0     59\n89                0    10031     60221.0    24285.0     63\n96                0    10472     64867.0    23565.0     16\n97                0    10027     56168.0    23150.0     42\n101               0    11233     61955.0    22754.0     14\n111               0    10457     69048.0    19233.0     18\n113               0    11206     69032.0    18661.0     36"
                    },
                    "execution_count": 24,
                    "metadata": {},
                    "output_type": "execute_result"
                }
            ],
            "source": "# High Population, medium Income\nmerged_df_clean[merged_df_clean['Cluster Labels'] == 0]"
        },
        {
            "cell_type": "code",
            "execution_count": 25,
            "metadata": {},
            "outputs": [
                {
                    "data": {
                        "text/html": "<div>\n<style scoped>\n    .dataframe tbody tr th:only-of-type {\n        vertical-align: middle;\n    }\n\n    .dataframe tbody tr th {\n        vertical-align: top;\n    }\n\n    .dataframe thead th {\n        text-align: right;\n    }\n</style>\n<table border=\"1\" class=\"dataframe\">\n  <thead>\n    <tr style=\"text-align: right;\">\n      <th></th>\n      <th>Cluster Labels</th>\n      <th>Zip Code</th>\n      <th>Population</th>\n      <th>AvgIncome</th>\n      <th>Venue</th>\n    </tr>\n  </thead>\n  <tbody>\n    <tr>\n      <th>26</th>\n      <td>1</td>\n      <td>10464</td>\n      <td>4634.0</td>\n      <td>57458.0</td>\n      <td>1</td>\n    </tr>\n    <tr>\n      <th>33</th>\n      <td>1</td>\n      <td>10044</td>\n      <td>9520.0</td>\n      <td>49976.0</td>\n      <td>13</td>\n    </tr>\n    <tr>\n      <th>37</th>\n      <td>1</td>\n      <td>10018</td>\n      <td>4255.0</td>\n      <td>48705.0</td>\n      <td>100</td>\n    </tr>\n    <tr>\n      <th>38</th>\n      <td>1</td>\n      <td>10310</td>\n      <td>22852.0</td>\n      <td>46198.0</td>\n      <td>14</td>\n    </tr>\n    <tr>\n      <th>44</th>\n      <td>1</td>\n      <td>10303</td>\n      <td>23530.0</td>\n      <td>42463.0</td>\n      <td>2</td>\n    </tr>\n    <tr>\n      <th>45</th>\n      <td>1</td>\n      <td>10302</td>\n      <td>16406.0</td>\n      <td>42452.0</td>\n      <td>10</td>\n    </tr>\n    <tr>\n      <th>49</th>\n      <td>1</td>\n      <td>10036</td>\n      <td>18751.0</td>\n      <td>41002.0</td>\n      <td>100</td>\n    </tr>\n    <tr>\n      <th>50</th>\n      <td>1</td>\n      <td>10001</td>\n      <td>17310.0</td>\n      <td>40932.0</td>\n      <td>69</td>\n    </tr>\n    <tr>\n      <th>56</th>\n      <td>1</td>\n      <td>10470</td>\n      <td>15780.0</td>\n      <td>38464.0</td>\n      <td>28</td>\n    </tr>\n    <tr>\n      <th>57</th>\n      <td>1</td>\n      <td>10013</td>\n      <td>25042.0</td>\n      <td>38304.0</td>\n      <td>100</td>\n    </tr>\n  </tbody>\n</table>\n</div>",
                        "text/plain": "    Cluster Labels Zip Code  Population  AvgIncome  Venue\n26               1    10464      4634.0    57458.0      1\n33               1    10044      9520.0    49976.0     13\n37               1    10018      4255.0    48705.0    100\n38               1    10310     22852.0    46198.0     14\n44               1    10303     23530.0    42463.0      2\n45               1    10302     16406.0    42452.0     10\n49               1    10036     18751.0    41002.0    100\n50               1    10001     17310.0    40932.0     69\n56               1    10470     15780.0    38464.0     28\n57               1    10013     25042.0    38304.0    100"
                    },
                    "execution_count": 25,
                    "metadata": {},
                    "output_type": "execute_result"
                }
            ],
            "source": "# Low Population, medium Income\nmerged_df_clean[merged_df_clean['Cluster Labels'] == 1]"
        },
        {
            "cell_type": "code",
            "execution_count": 26,
            "metadata": {},
            "outputs": [
                {
                    "data": {
                        "text/html": "<div>\n<style scoped>\n    .dataframe tbody tr th:only-of-type {\n        vertical-align: middle;\n    }\n\n    .dataframe tbody tr th {\n        vertical-align: top;\n    }\n\n    .dataframe thead th {\n        text-align: right;\n    }\n</style>\n<table border=\"1\" class=\"dataframe\">\n  <thead>\n    <tr style=\"text-align: right;\">\n      <th></th>\n      <th>Cluster Labels</th>\n      <th>Zip Code</th>\n      <th>Population</th>\n      <th>AvgIncome</th>\n      <th>Venue</th>\n    </tr>\n  </thead>\n  <tbody>\n    <tr>\n      <th>0</th>\n      <td>2</td>\n      <td>10007</td>\n      <td>3522.0</td>\n      <td>112947.0</td>\n      <td>83</td>\n    </tr>\n    <tr>\n      <th>1</th>\n      <td>2</td>\n      <td>10280</td>\n      <td>6614.0</td>\n      <td>108536.0</td>\n      <td>76</td>\n    </tr>\n    <tr>\n      <th>2</th>\n      <td>2</td>\n      <td>10162</td>\n      <td>1726.0</td>\n      <td>108416.0</td>\n      <td>56</td>\n    </tr>\n    <tr>\n      <th>3</th>\n      <td>2</td>\n      <td>10004</td>\n      <td>1225.0</td>\n      <td>101868.0</td>\n      <td>11</td>\n    </tr>\n    <tr>\n      <th>4</th>\n      <td>2</td>\n      <td>10069</td>\n      <td>1403.0</td>\n      <td>88091.0</td>\n      <td>16</td>\n    </tr>\n    <tr>\n      <th>5</th>\n      <td>2</td>\n      <td>10282</td>\n      <td>1574.0</td>\n      <td>86066.0</td>\n      <td>18</td>\n    </tr>\n    <tr>\n      <th>6</th>\n      <td>2</td>\n      <td>10006</td>\n      <td>1447.0</td>\n      <td>81334.0</td>\n      <td>56</td>\n    </tr>\n    <tr>\n      <th>8</th>\n      <td>2</td>\n      <td>10005</td>\n      <td>884.0</td>\n      <td>79517.0</td>\n      <td>92</td>\n    </tr>\n  </tbody>\n</table>\n</div>",
                        "text/plain": "   Cluster Labels Zip Code  Population  AvgIncome  Venue\n0               2    10007      3522.0   112947.0     83\n1               2    10280      6614.0   108536.0     76\n2               2    10162      1726.0   108416.0     56\n3               2    10004      1225.0   101868.0     11\n4               2    10069      1403.0    88091.0     16\n5               2    10282      1574.0    86066.0     18\n6               2    10006      1447.0    81334.0     56\n8               2    10005       884.0    79517.0     92"
                    },
                    "execution_count": 26,
                    "metadata": {},
                    "output_type": "execute_result"
                }
            ],
            "source": "# Low Population, Highest Income\nmerged_df_clean[merged_df_clean['Cluster Labels'] == 2]"
        },
        {
            "cell_type": "code",
            "execution_count": 28,
            "metadata": {},
            "outputs": [
                {
                    "data": {
                        "text/html": "<div>\n<style scoped>\n    .dataframe tbody tr th:only-of-type {\n        vertical-align: middle;\n    }\n\n    .dataframe tbody tr th {\n        vertical-align: top;\n    }\n\n    .dataframe thead th {\n        text-align: right;\n    }\n</style>\n<table border=\"1\" class=\"dataframe\">\n  <thead>\n    <tr style=\"text-align: right;\">\n      <th></th>\n      <th>Cluster Labels</th>\n      <th>Zip Code</th>\n      <th>Population</th>\n      <th>AvgIncome</th>\n      <th>Venue</th>\n    </tr>\n  </thead>\n  <tbody>\n    <tr>\n      <th>9</th>\n      <td>3</td>\n      <td>10024</td>\n      <td>61414.0</td>\n      <td>78066.0</td>\n      <td>54</td>\n    </tr>\n    <tr>\n      <th>10</th>\n      <td>3</td>\n      <td>10028</td>\n      <td>44987.0</td>\n      <td>77565.0</td>\n      <td>74</td>\n    </tr>\n    <tr>\n      <th>12</th>\n      <td>3</td>\n      <td>10023</td>\n      <td>62206.0</td>\n      <td>72424.0</td>\n      <td>99</td>\n    </tr>\n    <tr>\n      <th>13</th>\n      <td>3</td>\n      <td>10128</td>\n      <td>59856.0</td>\n      <td>70031.0</td>\n      <td>100</td>\n    </tr>\n    <tr>\n      <th>15</th>\n      <td>3</td>\n      <td>10312</td>\n      <td>58867.0</td>\n      <td>67728.0</td>\n      <td>2</td>\n    </tr>\n    <tr>\n      <th>17</th>\n      <td>3</td>\n      <td>10016</td>\n      <td>51217.0</td>\n      <td>66342.0</td>\n      <td>100</td>\n    </tr>\n    <tr>\n      <th>21</th>\n      <td>3</td>\n      <td>10011</td>\n      <td>46669.0</td>\n      <td>61986.0</td>\n      <td>79</td>\n    </tr>\n    <tr>\n      <th>23</th>\n      <td>3</td>\n      <td>10003</td>\n      <td>53673.0</td>\n      <td>60891.0</td>\n      <td>91</td>\n    </tr>\n    <tr>\n      <th>28</th>\n      <td>3</td>\n      <td>11201</td>\n      <td>47746.0</td>\n      <td>56293.0</td>\n      <td>28</td>\n    </tr>\n    <tr>\n      <th>30</th>\n      <td>3</td>\n      <td>10306</td>\n      <td>55698.0</td>\n      <td>55413.0</td>\n      <td>4</td>\n    </tr>\n    <tr>\n      <th>31</th>\n      <td>3</td>\n      <td>11215</td>\n      <td>63001.0</td>\n      <td>53313.0</td>\n      <td>44</td>\n    </tr>\n  </tbody>\n</table>\n</div>",
                        "text/plain": "    Cluster Labels Zip Code  Population  AvgIncome  Venue\n9                3    10024     61414.0    78066.0     54\n10               3    10028     44987.0    77565.0     74\n12               3    10023     62206.0    72424.0     99\n13               3    10128     59856.0    70031.0    100\n15               3    10312     58867.0    67728.0      2\n17               3    10016     51217.0    66342.0    100\n21               3    10011     46669.0    61986.0     79\n23               3    10003     53673.0    60891.0     91\n28               3    11201     47746.0    56293.0     28\n30               3    10306     55698.0    55413.0      4\n31               3    11215     63001.0    53313.0     44"
                    },
                    "execution_count": 28,
                    "metadata": {},
                    "output_type": "execute_result"
                }
            ],
            "source": "# High Population, High Income\nmerged_df_clean[merged_df_clean['Cluster Labels'] == 3]"
        },
        {
            "cell_type": "code",
            "execution_count": 27,
            "metadata": {},
            "outputs": [
                {
                    "data": {
                        "text/html": "<div>\n<style scoped>\n    .dataframe tbody tr th:only-of-type {\n        vertical-align: middle;\n    }\n\n    .dataframe tbody tr th {\n        vertical-align: top;\n    }\n\n    .dataframe thead th {\n        text-align: right;\n    }\n</style>\n<table border=\"1\" class=\"dataframe\">\n  <thead>\n    <tr style=\"text-align: right;\">\n      <th></th>\n      <th>Cluster Labels</th>\n      <th>Zip Code</th>\n      <th>Population</th>\n      <th>AvgIncome</th>\n      <th>Venue</th>\n    </tr>\n  </thead>\n  <tbody>\n    <tr>\n      <th>11</th>\n      <td>4</td>\n      <td>10021</td>\n      <td>102078.0</td>\n      <td>75472.0</td>\n      <td>72</td>\n    </tr>\n    <tr>\n      <th>24</th>\n      <td>4</td>\n      <td>10314</td>\n      <td>84821.0</td>\n      <td>59560.0</td>\n      <td>3</td>\n    </tr>\n    <tr>\n      <th>32</th>\n      <td>4</td>\n      <td>11234</td>\n      <td>86898.0</td>\n      <td>51446.0</td>\n      <td>2</td>\n    </tr>\n    <tr>\n      <th>34</th>\n      <td>4</td>\n      <td>10025</td>\n      <td>97086.0</td>\n      <td>49733.0</td>\n      <td>49</td>\n    </tr>\n    <tr>\n      <th>46</th>\n      <td>4</td>\n      <td>11236</td>\n      <td>96301.0</td>\n      <td>42370.0</td>\n      <td>11</td>\n    </tr>\n  </tbody>\n</table>\n</div>",
                        "text/plain": "    Cluster Labels Zip Code  Population  AvgIncome  Venue\n11               4    10021    102078.0    75472.0     72\n24               4    10314     84821.0    59560.0      3\n32               4    11234     86898.0    51446.0      2\n34               4    10025     97086.0    49733.0     49\n46               4    11236     96301.0    42370.0     11"
                    },
                    "execution_count": 27,
                    "metadata": {},
                    "output_type": "execute_result"
                }
            ],
            "source": "# Highest Population, High Income\nmerged_df_clean[merged_df_clean['Cluster Labels'] == 4]"
        },
        {
            "cell_type": "code",
            "execution_count": 29,
            "metadata": {},
            "outputs": [
                {
                    "data": {
                        "text/html": "<div>\n<style scoped>\n    .dataframe tbody tr th:only-of-type {\n        vertical-align: middle;\n    }\n\n    .dataframe tbody tr th {\n        vertical-align: top;\n    }\n\n    .dataframe thead th {\n        text-align: right;\n    }\n</style>\n<table border=\"1\" class=\"dataframe\">\n  <thead>\n    <tr style=\"text-align: right;\">\n      <th></th>\n      <th>Cluster Labels</th>\n      <th>Zip Code</th>\n      <th>Population</th>\n      <th>AvgIncome</th>\n      <th>Venue</th>\n    </tr>\n  </thead>\n  <tbody>\n    <tr>\n      <th>58</th>\n      <td>5</td>\n      <td>11229</td>\n      <td>80554.0</td>\n      <td>37812.0</td>\n      <td>38</td>\n    </tr>\n    <tr>\n      <th>59</th>\n      <td>5</td>\n      <td>11203</td>\n      <td>84498.0</td>\n      <td>37341.0</td>\n      <td>22</td>\n    </tr>\n    <tr>\n      <th>61</th>\n      <td>5</td>\n      <td>11218</td>\n      <td>74611.0</td>\n      <td>36432.0</td>\n      <td>31</td>\n    </tr>\n    <tr>\n      <th>62</th>\n      <td>5</td>\n      <td>11214</td>\n      <td>83546.0</td>\n      <td>33765.0</td>\n      <td>47</td>\n    </tr>\n    <tr>\n      <th>65</th>\n      <td>5</td>\n      <td>11230</td>\n      <td>88933.0</td>\n      <td>32327.0</td>\n      <td>30</td>\n    </tr>\n    <tr>\n      <th>66</th>\n      <td>5</td>\n      <td>11223</td>\n      <td>77691.0</td>\n      <td>32104.0</td>\n      <td>27</td>\n    </tr>\n    <tr>\n      <th>67</th>\n      <td>5</td>\n      <td>11204</td>\n      <td>74880.0</td>\n      <td>31798.0</td>\n      <td>42</td>\n    </tr>\n    <tr>\n      <th>70</th>\n      <td>5</td>\n      <td>11235</td>\n      <td>77451.0</td>\n      <td>31013.0</td>\n      <td>38</td>\n    </tr>\n    <tr>\n      <th>72</th>\n      <td>5</td>\n      <td>11220</td>\n      <td>92718.0</td>\n      <td>30152.0</td>\n      <td>47</td>\n    </tr>\n    <tr>\n      <th>73</th>\n      <td>5</td>\n      <td>11226</td>\n      <td>106154.0</td>\n      <td>29498.0</td>\n      <td>22</td>\n    </tr>\n    <tr>\n      <th>75</th>\n      <td>5</td>\n      <td>10467</td>\n      <td>94342.0</td>\n      <td>29044.0</td>\n      <td>11</td>\n    </tr>\n    <tr>\n      <th>80</th>\n      <td>5</td>\n      <td>11208</td>\n      <td>87165.0</td>\n      <td>27078.0</td>\n      <td>24</td>\n    </tr>\n    <tr>\n      <th>83</th>\n      <td>5</td>\n      <td>10468</td>\n      <td>78309.0</td>\n      <td>26852.0</td>\n      <td>26</td>\n    </tr>\n    <tr>\n      <th>84</th>\n      <td>5</td>\n      <td>11219</td>\n      <td>85987.0</td>\n      <td>26648.0</td>\n      <td>17</td>\n    </tr>\n    <tr>\n      <th>90</th>\n      <td>5</td>\n      <td>10029</td>\n      <td>75390.0</td>\n      <td>22232.0</td>\n      <td>62</td>\n    </tr>\n    <tr>\n      <th>92</th>\n      <td>5</td>\n      <td>11207</td>\n      <td>86551.0</td>\n      <td>24163.0</td>\n      <td>19</td>\n    </tr>\n    <tr>\n      <th>93</th>\n      <td>5</td>\n      <td>10002</td>\n      <td>84870.0</td>\n      <td>24022.0</td>\n      <td>100</td>\n    </tr>\n    <tr>\n      <th>94</th>\n      <td>5</td>\n      <td>11211</td>\n      <td>85089.0</td>\n      <td>23567.0</td>\n      <td>65</td>\n    </tr>\n    <tr>\n      <th>95</th>\n      <td>5</td>\n      <td>11212</td>\n      <td>85161.0</td>\n      <td>20839.0</td>\n      <td>12</td>\n    </tr>\n    <tr>\n      <th>102</th>\n      <td>5</td>\n      <td>11221</td>\n      <td>76363.0</td>\n      <td>22305.0</td>\n      <td>33</td>\n    </tr>\n    <tr>\n      <th>103</th>\n      <td>5</td>\n      <td>10458</td>\n      <td>77840.0</td>\n      <td>22072.0</td>\n      <td>29</td>\n    </tr>\n    <tr>\n      <th>106</th>\n      <td>5</td>\n      <td>10453</td>\n      <td>76775.0</td>\n      <td>21109.0</td>\n      <td>39</td>\n    </tr>\n    <tr>\n      <th>107</th>\n      <td>5</td>\n      <td>10452</td>\n      <td>72138.0</td>\n      <td>20606.0</td>\n      <td>21</td>\n    </tr>\n    <tr>\n      <th>112</th>\n      <td>5</td>\n      <td>10456</td>\n      <td>76656.0</td>\n      <td>16664.0</td>\n      <td>14</td>\n    </tr>\n  </tbody>\n</table>\n</div>",
                        "text/plain": "     Cluster Labels Zip Code  Population  AvgIncome  Venue\n58                5    11229     80554.0    37812.0     38\n59                5    11203     84498.0    37341.0     22\n61                5    11218     74611.0    36432.0     31\n62                5    11214     83546.0    33765.0     47\n65                5    11230     88933.0    32327.0     30\n66                5    11223     77691.0    32104.0     27\n67                5    11204     74880.0    31798.0     42\n70                5    11235     77451.0    31013.0     38\n72                5    11220     92718.0    30152.0     47\n73                5    11226    106154.0    29498.0     22\n75                5    10467     94342.0    29044.0     11\n80                5    11208     87165.0    27078.0     24\n83                5    10468     78309.0    26852.0     26\n84                5    11219     85987.0    26648.0     17\n90                5    10029     75390.0    22232.0     62\n92                5    11207     86551.0    24163.0     19\n93                5    10002     84870.0    24022.0    100\n94                5    11211     85089.0    23567.0     65\n95                5    11212     85161.0    20839.0     12\n102               5    11221     76363.0    22305.0     33\n103               5    10458     77840.0    22072.0     29\n106               5    10453     76775.0    21109.0     39\n107               5    10452     72138.0    20606.0     21\n112               5    10456     76656.0    16664.0     14"
                    },
                    "execution_count": 29,
                    "metadata": {},
                    "output_type": "execute_result"
                }
            ],
            "source": "# High Population, Low Income\nmerged_df_clean[merged_df_clean['Cluster Labels'] == 5]"
        },
        {
            "cell_type": "code",
            "execution_count": 30,
            "metadata": {},
            "outputs": [
                {
                    "data": {
                        "text/html": "<div>\n<style scoped>\n    .dataframe tbody tr th:only-of-type {\n        vertical-align: middle;\n    }\n\n    .dataframe tbody tr th {\n        vertical-align: top;\n    }\n\n    .dataframe thead th {\n        text-align: right;\n    }\n</style>\n<table border=\"1\" class=\"dataframe\">\n  <thead>\n    <tr style=\"text-align: right;\">\n      <th></th>\n      <th>Cluster Labels</th>\n      <th>Zip Code</th>\n      <th>Population</th>\n      <th>AvgIncome</th>\n      <th>Venue</th>\n    </tr>\n  </thead>\n  <tbody>\n    <tr>\n      <th>74</th>\n      <td>6</td>\n      <td>10034</td>\n      <td>41756.0</td>\n      <td>29479.0</td>\n      <td>42</td>\n    </tr>\n    <tr>\n      <th>77</th>\n      <td>6</td>\n      <td>11205</td>\n      <td>35622.0</td>\n      <td>28070.0</td>\n      <td>48</td>\n    </tr>\n    <tr>\n      <th>78</th>\n      <td>6</td>\n      <td>10040</td>\n      <td>46599.0</td>\n      <td>27905.0</td>\n      <td>32</td>\n    </tr>\n    <tr>\n      <th>86</th>\n      <td>6</td>\n      <td>11224</td>\n      <td>51205.0</td>\n      <td>21281.0</td>\n      <td>15</td>\n    </tr>\n    <tr>\n      <th>98</th>\n      <td>6</td>\n      <td>10026</td>\n      <td>30377.0</td>\n      <td>22491.0</td>\n      <td>50</td>\n    </tr>\n    <tr>\n      <th>99</th>\n      <td>6</td>\n      <td>11237</td>\n      <td>48910.0</td>\n      <td>23104.0</td>\n      <td>53</td>\n    </tr>\n    <tr>\n      <th>104</th>\n      <td>6</td>\n      <td>10460</td>\n      <td>53707.0</td>\n      <td>19517.0</td>\n      <td>15</td>\n    </tr>\n    <tr>\n      <th>105</th>\n      <td>6</td>\n      <td>10459</td>\n      <td>39080.0</td>\n      <td>17498.0</td>\n      <td>11</td>\n    </tr>\n    <tr>\n      <th>108</th>\n      <td>6</td>\n      <td>10454</td>\n      <td>34976.0</td>\n      <td>14271.0</td>\n      <td>30</td>\n    </tr>\n    <tr>\n      <th>109</th>\n      <td>6</td>\n      <td>10451</td>\n      <td>40961.0</td>\n      <td>20307.0</td>\n      <td>28</td>\n    </tr>\n    <tr>\n      <th>110</th>\n      <td>6</td>\n      <td>10455</td>\n      <td>37465.0</td>\n      <td>19389.0</td>\n      <td>21</td>\n    </tr>\n    <tr>\n      <th>115</th>\n      <td>6</td>\n      <td>10035</td>\n      <td>32702.0</td>\n      <td>14896.0</td>\n      <td>27</td>\n    </tr>\n  </tbody>\n</table>\n</div>",
                        "text/plain": "     Cluster Labels Zip Code  Population  AvgIncome  Venue\n74                6    10034     41756.0    29479.0     42\n77                6    11205     35622.0    28070.0     48\n78                6    10040     46599.0    27905.0     32\n86                6    11224     51205.0    21281.0     15\n98                6    10026     30377.0    22491.0     50\n99                6    11237     48910.0    23104.0     53\n104               6    10460     53707.0    19517.0     15\n105               6    10459     39080.0    17498.0     11\n108               6    10454     34976.0    14271.0     30\n109               6    10451     40961.0    20307.0     28\n110               6    10455     37465.0    19389.0     21\n115               6    10035     32702.0    14896.0     27"
                    },
                    "execution_count": 30,
                    "metadata": {},
                    "output_type": "execute_result"
                }
            ],
            "source": "# Medium Population, Low Income\nmerged_df_clean[merged_df_clean['Cluster Labels'] == 6]"
        },
        {
            "cell_type": "code",
            "execution_count": 31,
            "metadata": {},
            "outputs": [
                {
                    "data": {
                        "text/html": "<div>\n<style scoped>\n    .dataframe tbody tr th:only-of-type {\n        vertical-align: middle;\n    }\n\n    .dataframe tbody tr th {\n        vertical-align: top;\n    }\n\n    .dataframe thead th {\n        text-align: right;\n    }\n</style>\n<table border=\"1\" class=\"dataframe\">\n  <thead>\n    <tr style=\"text-align: right;\">\n      <th></th>\n      <th>Cluster Labels</th>\n      <th>Zip Code</th>\n      <th>Population</th>\n      <th>AvgIncome</th>\n      <th>Venue</th>\n    </tr>\n  </thead>\n  <tbody>\n    <tr>\n      <th>35</th>\n      <td>7</td>\n      <td>11217</td>\n      <td>35353.0</td>\n      <td>49567.0</td>\n      <td>44</td>\n    </tr>\n    <tr>\n      <th>36</th>\n      <td>7</td>\n      <td>10305</td>\n      <td>38450.0</td>\n      <td>48944.0</td>\n      <td>10</td>\n    </tr>\n    <tr>\n      <th>39</th>\n      <td>7</td>\n      <td>10465</td>\n      <td>42500.0</td>\n      <td>45650.0</td>\n      <td>25</td>\n    </tr>\n    <tr>\n      <th>40</th>\n      <td>7</td>\n      <td>11231</td>\n      <td>32974.0</td>\n      <td>45154.0</td>\n      <td>17</td>\n    </tr>\n    <tr>\n      <th>41</th>\n      <td>7</td>\n      <td>11228</td>\n      <td>41172.0</td>\n      <td>44932.0</td>\n      <td>12</td>\n    </tr>\n    <tr>\n      <th>48</th>\n      <td>7</td>\n      <td>10304</td>\n      <td>38972.0</td>\n      <td>41041.0</td>\n      <td>2</td>\n    </tr>\n    <tr>\n      <th>51</th>\n      <td>7</td>\n      <td>10475</td>\n      <td>38086.0</td>\n      <td>40528.0</td>\n      <td>6</td>\n    </tr>\n    <tr>\n      <th>54</th>\n      <td>7</td>\n      <td>10461</td>\n      <td>49808.0</td>\n      <td>40024.0</td>\n      <td>15</td>\n    </tr>\n    <tr>\n      <th>55</th>\n      <td>7</td>\n      <td>11238</td>\n      <td>48965.0</td>\n      <td>39917.0</td>\n      <td>48</td>\n    </tr>\n    <tr>\n      <th>64</th>\n      <td>7</td>\n      <td>11222</td>\n      <td>39360.0</td>\n      <td>33578.0</td>\n      <td>40</td>\n    </tr>\n  </tbody>\n</table>\n</div>",
                        "text/plain": "    Cluster Labels Zip Code  Population  AvgIncome  Venue\n35               7    11217     35353.0    49567.0     44\n36               7    10305     38450.0    48944.0     10\n39               7    10465     42500.0    45650.0     25\n40               7    11231     32974.0    45154.0     17\n41               7    11228     41172.0    44932.0     12\n48               7    10304     38972.0    41041.0      2\n51               7    10475     38086.0    40528.0      6\n54               7    10461     49808.0    40024.0     15\n55               7    11238     48965.0    39917.0     48\n64               7    11222     39360.0    33578.0     40"
                    },
                    "execution_count": 31,
                    "metadata": {},
                    "output_type": "execute_result"
                }
            ],
            "source": "merged_df_clean[merged_df_clean['Cluster Labels'] == 7]"
        },
        {
            "cell_type": "code",
            "execution_count": 32,
            "metadata": {},
            "outputs": [
                {
                    "data": {
                        "text/html": "<div>\n<style scoped>\n    .dataframe tbody tr th:only-of-type {\n        vertical-align: middle;\n    }\n\n    .dataframe tbody tr th {\n        vertical-align: top;\n    }\n\n    .dataframe thead th {\n        text-align: right;\n    }\n</style>\n<table border=\"1\" class=\"dataframe\">\n  <thead>\n    <tr style=\"text-align: right;\">\n      <th></th>\n      <th>Cluster Labels</th>\n      <th>Zip Code</th>\n      <th>Population</th>\n      <th>AvgIncome</th>\n      <th>Venue</th>\n    </tr>\n  </thead>\n  <tbody>\n    <tr>\n      <th>69</th>\n      <td>8</td>\n      <td>10038</td>\n      <td>15574.0</td>\n      <td>31316.0</td>\n      <td>87</td>\n    </tr>\n    <tr>\n      <th>76</th>\n      <td>8</td>\n      <td>11232</td>\n      <td>27723.0</td>\n      <td>28395.0</td>\n      <td>57</td>\n    </tr>\n    <tr>\n      <th>81</th>\n      <td>8</td>\n      <td>10037</td>\n      <td>16984.0</td>\n      <td>26561.0</td>\n      <td>13</td>\n    </tr>\n    <tr>\n      <th>82</th>\n      <td>8</td>\n      <td>10039</td>\n      <td>21737.0</td>\n      <td>17370.0</td>\n      <td>23</td>\n    </tr>\n    <tr>\n      <th>91</th>\n      <td>8</td>\n      <td>10030</td>\n      <td>25847.0</td>\n      <td>17970.0</td>\n      <td>67</td>\n    </tr>\n    <tr>\n      <th>100</th>\n      <td>8</td>\n      <td>11239</td>\n      <td>14620.0</td>\n      <td>16919.0</td>\n      <td>5</td>\n    </tr>\n    <tr>\n      <th>114</th>\n      <td>8</td>\n      <td>10474</td>\n      <td>11354.0</td>\n      <td>16339.0</td>\n      <td>11</td>\n    </tr>\n  </tbody>\n</table>\n</div>",
                        "text/plain": "     Cluster Labels Zip Code  Population  AvgIncome  Venue\n69                8    10038     15574.0    31316.0     87\n76                8    11232     27723.0    28395.0     57\n81                8    10037     16984.0    26561.0     13\n82                8    10039     21737.0    17370.0     23\n91                8    10030     25847.0    17970.0     67\n100               8    11239     14620.0    16919.0      5\n114               8    10474     11354.0    16339.0     11"
                    },
                    "execution_count": 32,
                    "metadata": {},
                    "output_type": "execute_result"
                }
            ],
            "source": "merged_df_clean[merged_df_clean['Cluster Labels'] == 8]"
        },
        {
            "cell_type": "code",
            "execution_count": 33,
            "metadata": {},
            "outputs": [
                {
                    "data": {
                        "text/html": "<div>\n<style scoped>\n    .dataframe tbody tr th:only-of-type {\n        vertical-align: middle;\n    }\n\n    .dataframe tbody tr th {\n        vertical-align: top;\n    }\n\n    .dataframe thead th {\n        text-align: right;\n    }\n</style>\n<table border=\"1\" class=\"dataframe\">\n  <thead>\n    <tr style=\"text-align: right;\">\n      <th></th>\n      <th>Cluster Labels</th>\n      <th>Zip Code</th>\n      <th>Population</th>\n      <th>AvgIncome</th>\n      <th>Venue</th>\n    </tr>\n  </thead>\n  <tbody>\n    <tr>\n      <th>7</th>\n      <td>9</td>\n      <td>10022</td>\n      <td>30642.0</td>\n      <td>80406.0</td>\n      <td>100</td>\n    </tr>\n    <tr>\n      <th>14</th>\n      <td>9</td>\n      <td>10017</td>\n      <td>16201.0</td>\n      <td>69273.0</td>\n      <td>100</td>\n    </tr>\n    <tr>\n      <th>16</th>\n      <td>9</td>\n      <td>10014</td>\n      <td>32667.0</td>\n      <td>66601.0</td>\n      <td>100</td>\n    </tr>\n    <tr>\n      <th>18</th>\n      <td>9</td>\n      <td>10309</td>\n      <td>27207.0</td>\n      <td>65397.0</td>\n      <td>1</td>\n    </tr>\n    <tr>\n      <th>19</th>\n      <td>9</td>\n      <td>10307</td>\n      <td>11669.0</td>\n      <td>64159.0</td>\n      <td>12</td>\n    </tr>\n    <tr>\n      <th>20</th>\n      <td>9</td>\n      <td>10010</td>\n      <td>26408.0</td>\n      <td>62467.0</td>\n      <td>83</td>\n    </tr>\n    <tr>\n      <th>22</th>\n      <td>9</td>\n      <td>10308</td>\n      <td>26451.0</td>\n      <td>61868.0</td>\n      <td>17</td>\n    </tr>\n    <tr>\n      <th>25</th>\n      <td>9</td>\n      <td>10012</td>\n      <td>26000.0</td>\n      <td>58313.0</td>\n      <td>100</td>\n    </tr>\n    <tr>\n      <th>27</th>\n      <td>9</td>\n      <td>10471</td>\n      <td>23413.0</td>\n      <td>56488.0</td>\n      <td>1</td>\n    </tr>\n    <tr>\n      <th>29</th>\n      <td>9</td>\n      <td>10019</td>\n      <td>36012.0</td>\n      <td>55869.0</td>\n      <td>100</td>\n    </tr>\n  </tbody>\n</table>\n</div>",
                        "text/plain": "    Cluster Labels Zip Code  Population  AvgIncome  Venue\n7                9    10022     30642.0    80406.0    100\n14               9    10017     16201.0    69273.0    100\n16               9    10014     32667.0    66601.0    100\n18               9    10309     27207.0    65397.0      1\n19               9    10307     11669.0    64159.0     12\n20               9    10010     26408.0    62467.0     83\n22               9    10308     26451.0    61868.0     17\n25               9    10012     26000.0    58313.0    100\n27               9    10471     23413.0    56488.0      1\n29               9    10019     36012.0    55869.0    100"
                    },
                    "execution_count": 33,
                    "metadata": {},
                    "output_type": "execute_result"
                }
            ],
            "source": "merged_df_clean[merged_df_clean['Cluster Labels'] == 9]"
        },
        {
            "cell_type": "code",
            "execution_count": 51,
            "metadata": {},
            "outputs": [],
            "source": "ny_food\n#ny_food['Venue Category'].unique()\n\n\n"
        },
        {
            "cell_type": "code",
            "execution_count": null,
            "metadata": {},
            "outputs": [],
            "source": ""
        }
    ],
    "metadata": {
        "kernelspec": {
            "display_name": "Python 3.7",
            "language": "python",
            "name": "python3"
        },
        "language_info": {
            "codemirror_mode": {
                "name": "ipython",
                "version": 3
            },
            "file_extension": ".py",
            "mimetype": "text/x-python",
            "name": "python",
            "nbconvert_exporter": "python",
            "pygments_lexer": "ipython3",
            "version": "3.7.9"
        }
    },
    "nbformat": 4,
    "nbformat_minor": 1
}